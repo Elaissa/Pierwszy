{
  "nbformat": 4,
  "nbformat_minor": 0,
  "metadata": {
    "colab": {
      "name": "Udacity Introduction to Python lesson 4",
      "version": "0.3.2",
      "provenance": [],
      "include_colab_link": true
    },
    "kernelspec": {
      "name": "python3",
      "display_name": "Python 3"
    }
  },
  "cells": [
    {
      "cell_type": "markdown",
      "metadata": {
        "id": "view-in-github",
        "colab_type": "text"
      },
      "source": [
        "<a href=\"https://colab.research.google.com/github/Elaissa/Pierwszy/blob/master/Udacity_Introduction_to_Python_lesson_4.ipynb\" target=\"_parent\"><img src=\"https://colab.research.google.com/assets/colab-badge.svg\" alt=\"Open In Colab\"/></a>"
      ]
    },
    {
      "metadata": {
        "id": "Xza7wLZjctQC",
        "colab_type": "code",
        "colab": {
          "base_uri": "https://localhost:8080/",
          "height": 510
        },
        "outputId": "34bb6b95-0153-4a99-bd27-780a517639d8"
      },
      "cell_type": "code",
      "source": [
        "manifest = [(\"bananas\", 15), (\"mattresses\", 24), (\"dog kennels\", 42), (\"machine\", 120), (\"cheeses\", 5)]\n",
        "\n",
        "# the code breaks the loop when weight exceeds or reaches the limit\n",
        "print(\"METHOD 1\")\n",
        "weight = 0\n",
        "items = []\n",
        "for cargo_name, cargo_weight in manifest:\n",
        "    print(\"current weight: {}\".format(weight))\n",
        "    if weight >= 100:\n",
        "        print(\"  breaking loop now!\")\n",
        "        break\n",
        "    else:\n",
        "        print(\"  adding {} ({})\".format(cargo_name, cargo_weight))\n",
        "        items.append(cargo_name)\n",
        "        weight += cargo_weight\n",
        "\n",
        "print(\"\\nFinal Weight: {}\".format(weight))\n",
        "print(\"Final Items: {}\".format(items))\n",
        "\n",
        "# skips an iteration when adding an item would exceed the limit\n",
        "# breaks the loop if weight is exactly the value of the limit\n",
        "print(\"\\nMETHOD 2\")\n",
        "weight = 0\n",
        "items = []\n",
        "for cargo_name, cargo_weight in manifest:\n",
        "    print(\"current weight: {}\".format(weight))\n",
        "    if weight >= 100:\n",
        "        print(\"  breaking from the loop now!\")\n",
        "        break\n",
        "    elif weight + cargo_weight > 100:\n",
        "        print(\"  skipping {} ({})\".format(cargo_name, cargo_weight))\n",
        "        continue\n",
        "    else:\n",
        "        print(\"  adding {} ({})\".format(cargo_name, cargo_weight))\n",
        "        items.append(cargo_name)\n",
        "        weight += cargo_weight\n",
        "\n",
        "print(\"\\nFinal Weight: {}\".format(weight))\n",
        "print(\"Final Items: {}\".format(items))\n"
      ],
      "execution_count": 1,
      "outputs": [
        {
          "output_type": "stream",
          "text": [
            "METHOD 1\n",
            "current weight: 0\n",
            "  adding bananas (15)\n",
            "current weight: 15\n",
            "  adding mattresses (24)\n",
            "current weight: 39\n",
            "  adding dog kennels (42)\n",
            "current weight: 81\n",
            "  adding machine (120)\n",
            "current weight: 201\n",
            "  breaking loop now!\n",
            "\n",
            "Final Weight: 201\n",
            "Final Items: ['bananas', 'mattresses', 'dog kennels', 'machine']\n",
            "\n",
            "METHOD 2\n",
            "current weight: 0\n",
            "  adding bananas (15)\n",
            "current weight: 15\n",
            "  adding mattresses (24)\n",
            "current weight: 39\n",
            "  adding dog kennels (42)\n",
            "current weight: 81\n",
            "  skipping machine (120)\n",
            "current weight: 81\n",
            "  adding cheeses (5)\n",
            "\n",
            "Final Weight: 86\n",
            "Final Items: ['bananas', 'mattresses', 'dog kennels', 'cheeses']\n"
          ],
          "name": "stdout"
        }
      ]
    }
  ]
}